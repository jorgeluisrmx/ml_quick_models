{
 "cells": [
  {
   "cell_type": "markdown",
   "metadata": {},
   "source": [
    "# Gender classification"
   ]
  },
  {
   "cell_type": "markdown",
   "metadata": {},
   "source": [
    "## 1. Main goal\n",
    "\n",
    "Given the height, weight and shoe size of a person, determine its gender"
   ]
  },
  {
   "cell_type": "markdown",
   "metadata": {},
   "source": [
    "## 2. Data"
   ]
  },
  {
   "cell_type": "code",
   "execution_count": 49,
   "metadata": {},
   "outputs": [
    {
     "name": "stdout",
     "output_type": "stream",
     "text": [
      "[181, 80, 44] male\n",
      "[177, 70, 43] female\n",
      "[160, 60, 38] female\n",
      "[154, 54, 37] female\n",
      "[166, 65, 40] male\n",
      "[190, 90, 47] male\n",
      "[175, 64, 39] male\n",
      "[177, 70, 40] female\n",
      "[159, 55, 37] male\n",
      "[171, 75, 42] female\n",
      "[181, 85, 43] male\n"
     ]
    }
   ],
   "source": [
    "# [height, weight, shoe size]\n",
    "features = [\n",
    "    [181,80,44], [177,70,43], [160,60,38], [154,54,37],\n",
    "    [166,65,40], [190,90,47], [175,64,39], [177,70,40],\n",
    "    [159,55,37], [171,75,42], [181,85,43]\n",
    "]\n",
    "\n",
    "labels = ['male', 'female', 'female', 'female', 'male', 'male',\n",
    "    'male', 'female', 'male', 'female', 'male']\n",
    "\n",
    "for m, g in zip(features, labels):\n",
    "    print(m, g)"
   ]
  },
  {
   "cell_type": "markdown",
   "metadata": {},
   "source": [
    "## 3. Model training"
   ]
  },
  {
   "cell_type": "code",
   "execution_count": 103,
   "metadata": {},
   "outputs": [],
   "source": [
    "from time import time\n",
    "import numpy as np\n",
    "from sklearn.tree import DecisionTreeClassifier\n",
    "from sklearn.neighbors import KNeighborsClassifier\n",
    "from sklearn.svm import SVC"
   ]
  },
  {
   "cell_type": "markdown",
   "metadata": {},
   "source": [
    "### 3.1 Out of the box DecisionTreeClassifier"
   ]
  },
  {
   "cell_type": "code",
   "execution_count": 51,
   "metadata": {},
   "outputs": [
    {
     "name": "stdout",
     "output_type": "stream",
     "text": [
      "training time: 0.315 s\n"
     ]
    }
   ],
   "source": [
    "dt_clf = DecisionTreeClassifier()\n",
    "t0 = time()\n",
    "dt_clf.fit(features, labels)\n",
    "print(\"training time:\", round(time()-t0, 3), \"s\")"
   ]
  },
  {
   "cell_type": "markdown",
   "metadata": {},
   "source": [
    "### 3.2 Out of the box KNeighborsClassifier"
   ]
  },
  {
   "cell_type": "code",
   "execution_count": 52,
   "metadata": {},
   "outputs": [
    {
     "name": "stdout",
     "output_type": "stream",
     "text": [
      "training time: 0.004 s\n"
     ]
    }
   ],
   "source": [
    "knn_clf = KNeighborsClassifier()\n",
    "t0 = time()\n",
    "knn_clf.fit(features, labels)\n",
    "print(\"training time:\", round(time()-t0, 3), \"s\")"
   ]
  },
  {
   "cell_type": "markdown",
   "metadata": {},
   "source": [
    "### 3.3 SVC with gamma = 'scale'"
   ]
  },
  {
   "cell_type": "code",
   "execution_count": 53,
   "metadata": {},
   "outputs": [
    {
     "name": "stdout",
     "output_type": "stream",
     "text": [
      "training time: 0.053 s\n"
     ]
    }
   ],
   "source": [
    "svc_clf = SVC(gamma='scale')\n",
    "t0 = time()\n",
    "svc_clf.fit(features, labels)\n",
    "print(\"training time:\", round(time()-t0, 3), \"s\")"
   ]
  },
  {
   "cell_type": "markdown",
   "metadata": {},
   "source": [
    "### 3.4 SVC with gamma = 'auto'"
   ]
  },
  {
   "cell_type": "code",
   "execution_count": 62,
   "metadata": {},
   "outputs": [
    {
     "name": "stdout",
     "output_type": "stream",
     "text": [
      "training time: 0.002 s\n"
     ]
    }
   ],
   "source": [
    "svc_auto_clf = SVC(gamma='auto')\n",
    "t0 = time()\n",
    "svc_auto_clf.fit(features, labels)\n",
    "print(\"training time:\", round(time()-t0, 3), \"s\")"
   ]
  },
  {
   "cell_type": "markdown",
   "metadata": {},
   "source": [
    "## 4. Validation\n",
    "\n",
    "The accuracy score is used to validate the trained models. Due the small dataset available we use the validation_set == training_set, knowing that for real cases a much better pipeline consist into implement a cross validation strategy."
   ]
  },
  {
   "cell_type": "code",
   "execution_count": 102,
   "metadata": {},
   "outputs": [
    {
     "name": "stdout",
     "output_type": "stream",
     "text": [
      "1.0\tSVC (gamma=auto)\n",
      "0.7273\tSVC (gamma=scale)\n",
      "0.5455\tKNN\n",
      "1.0\tDecisionTree\n",
      "\n",
      "The model with the highest accuracy (1.0) is SVC (gamma=auto)\n"
     ]
    }
   ],
   "source": [
    "# Get the accuracy_score of each model\n",
    "# and select the best one. Note that for\n",
    "# this toy example validation_set == training_set\n",
    "\n",
    "models = [svc_auto_clf, svc_clf, knn_clf, dt_clf]\n",
    "m_names = ['SVC (gamma=auto)', 'SVC (gamma=scale)', 'KNN', 'DecisionTree']\n",
    "scores = []\n",
    "# calc accuracy scores\n",
    "for model, m_name in zip(models, m_names):\n",
    "    scores.append(model.score(features, labels))\n",
    "    print(\"{:0.4}\\t{}\".format(scores[-1], m_name))\n",
    "# select the best model\n",
    "best_index = np.argmax(scores)\n",
    "print(\"\\nThe model with the highest accuracy ({:0.4}) is {}\".format(scores[best_index], m_names[best_index]))\n",
    "    "
   ]
  },
  {
   "cell_type": "markdown",
   "metadata": {},
   "source": [
    "## 5. Predict"
   ]
  },
  {
   "cell_type": "code",
   "execution_count": 104,
   "metadata": {},
   "outputs": [],
   "source": [
    "test_case = [[190, 70, 43]]"
   ]
  },
  {
   "cell_type": "code",
   "execution_count": 105,
   "metadata": {},
   "outputs": [
    {
     "data": {
      "text/plain": [
       "array(['male'],\n",
       "      dtype='<U6')"
      ]
     },
     "execution_count": 105,
     "metadata": {},
     "output_type": "execute_result"
    }
   ],
   "source": [
    "svc_auto_clf.predict(test_case)"
   ]
  }
 ],
 "metadata": {
  "kernelspec": {
   "display_name": "Python 3",
   "language": "python",
   "name": "python3"
  },
  "language_info": {
   "codemirror_mode": {
    "name": "ipython",
    "version": 3
   },
   "file_extension": ".py",
   "mimetype": "text/x-python",
   "name": "python",
   "nbconvert_exporter": "python",
   "pygments_lexer": "ipython3",
   "version": "3.6.7"
  }
 },
 "nbformat": 4,
 "nbformat_minor": 2
}
